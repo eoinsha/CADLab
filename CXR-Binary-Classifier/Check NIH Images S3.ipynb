{
 "cells": [
  {
   "cell_type": "code",
   "execution_count": 56,
   "metadata": {
    "ExecuteTime": {
     "end_time": "2020-11-16T11:46:46.994356Z",
     "start_time": "2020-11-16T11:46:46.907510Z"
    }
   },
   "outputs": [],
   "source": [
    "import boto3\n",
    "from tqdm.notebook import tqdm\n",
    "import pandas as pd\n",
    "from stringcase import pascalcase"
   ]
  },
  {
   "cell_type": "code",
   "execution_count": 28,
   "metadata": {
    "ExecuteTime": {
     "end_time": "2020-11-16T10:11:20.152765Z",
     "start_time": "2020-11-16T10:11:20.097317Z"
    }
   },
   "outputs": [],
   "source": [
    "s3 = boto3.client('s3')"
   ]
  },
  {
   "cell_type": "code",
   "execution_count": 29,
   "metadata": {
    "ExecuteTime": {
     "end_time": "2020-11-16T10:11:28.306649Z",
     "start_time": "2020-11-16T10:11:28.219188Z"
    }
   },
   "outputs": [],
   "source": [
    "pag = s3.get_paginator('list_objects_v2')"
   ]
  },
  {
   "cell_type": "code",
   "execution_count": 30,
   "metadata": {
    "ExecuteTime": {
     "end_time": "2020-11-16T10:11:28.699441Z",
     "start_time": "2020-11-16T10:11:28.689317Z"
    }
   },
   "outputs": [],
   "source": [
    "page_iter = pag.paginate(Bucket='ft-modelling-lbeta', Prefix='cxr-nih/')"
   ]
  },
  {
   "cell_type": "code",
   "execution_count": 31,
   "metadata": {
    "ExecuteTime": {
     "end_time": "2020-11-16T10:14:28.717587Z",
     "start_time": "2020-11-16T10:11:29.166343Z"
    }
   },
   "outputs": [
    {
     "data": {
      "application/vnd.jupyter.widget-view+json": {
       "model_id": "801796f43e284324b41262af2d476573",
       "version_major": 2,
       "version_minor": 0
      },
      "text/plain": [
       "HBox(children=(HTML(value=''), FloatProgress(value=1.0, bar_style='info', layout=Layout(width='20px'), max=1.0…"
      ]
     },
     "metadata": {},
     "output_type": "display_data"
    },
    {
     "name": "stdout",
     "output_type": "stream",
     "text": [
      "\n"
     ]
    },
    {
     "data": {
      "text/plain": [
       "'Done'"
      ]
     },
     "execution_count": 31,
     "metadata": {},
     "output_type": "execute_result"
    }
   ],
   "source": [
    "contents = []\n",
    "for page in tqdm(page_iter):\n",
    "    if 'Contents' in page:\n",
    "        contents.extend(page['Contents'])\n",
    "'Done'"
   ]
  },
  {
   "cell_type": "code",
   "execution_count": 32,
   "metadata": {
    "ExecuteTime": {
     "end_time": "2020-11-16T10:51:13.605308Z",
     "start_time": "2020-11-16T10:51:13.536258Z"
    }
   },
   "outputs": [
    {
     "data": {
      "text/plain": [
       "113179"
      ]
     },
     "execution_count": 32,
     "metadata": {},
     "output_type": "execute_result"
    }
   ],
   "source": [
    "len(contents)"
   ]
  },
  {
   "cell_type": "code",
   "execution_count": 107,
   "metadata": {
    "ExecuteTime": {
     "end_time": "2020-11-16T12:32:48.065564Z",
     "start_time": "2020-11-16T12:32:47.794136Z"
    }
   },
   "outputs": [],
   "source": [
    "df = pd.DataFrame.from_records(contents)"
   ]
  },
  {
   "cell_type": "code",
   "execution_count": 108,
   "metadata": {
    "ExecuteTime": {
     "end_time": "2020-11-16T12:32:48.285602Z",
     "start_time": "2020-11-16T12:32:48.153037Z"
    }
   },
   "outputs": [],
   "source": [
    "df['Filename'] = df['Key'].apply(lambda key: key.split('/')[-1])"
   ]
  },
  {
   "cell_type": "code",
   "execution_count": 109,
   "metadata": {
    "ExecuteTime": {
     "end_time": "2020-11-16T12:32:48.530221Z",
     "start_time": "2020-11-16T12:32:48.496865Z"
    }
   },
   "outputs": [],
   "source": [
    "df.set_index('Filename', drop=True, inplace=True)"
   ]
  },
  {
   "cell_type": "code",
   "execution_count": 110,
   "metadata": {
    "ExecuteTime": {
     "end_time": "2020-11-16T12:32:48.963759Z",
     "start_time": "2020-11-16T12:32:48.940037Z"
    },
    "collapsed": true
   },
   "outputs": [
    {
     "ename": "KeyError",
     "evalue": "\"['LabelTestRadConsensusVoted3' 'IsTestRadConsensusVoted3'] not found in axis\"",
     "output_type": "error",
     "traceback": [
      "\u001b[0;31m---------------------------------------------------------------------------\u001b[0m",
      "\u001b[0;31mKeyError\u001b[0m                                  Traceback (most recent call last)",
      "\u001b[0;32m<ipython-input-110-b64b25fa5028>\u001b[0m in \u001b[0;36m<module>\u001b[0;34m\u001b[0m\n\u001b[0;32m----> 1\u001b[0;31m \u001b[0mdf\u001b[0m \u001b[0;34m=\u001b[0m \u001b[0mdf\u001b[0m\u001b[0;34m.\u001b[0m\u001b[0mdrop\u001b[0m\u001b[0;34m(\u001b[0m\u001b[0mcolumns\u001b[0m\u001b[0;34m=\u001b[0m\u001b[0;34m[\u001b[0m\u001b[0;34m'LabelTestRadConsensusVoted3'\u001b[0m\u001b[0;34m,\u001b[0m \u001b[0;34m'IsTestRadConsensusVoted3'\u001b[0m\u001b[0;34m]\u001b[0m\u001b[0;34m)\u001b[0m\u001b[0;34m\u001b[0m\u001b[0;34m\u001b[0m\u001b[0m\n\u001b[0m",
      "\u001b[0;32m~/miniconda3/envs/py38/lib/python3.8/site-packages/pandas/core/frame.py\u001b[0m in \u001b[0;36mdrop\u001b[0;34m(self, labels, axis, index, columns, level, inplace, errors)\u001b[0m\n\u001b[1;32m   4158\u001b[0m                 \u001b[0mweight\u001b[0m  \u001b[0;36m1.0\u001b[0m     \u001b[0;36m0.8\u001b[0m\u001b[0;34m\u001b[0m\u001b[0;34m\u001b[0m\u001b[0m\n\u001b[1;32m   4159\u001b[0m         \"\"\"\n\u001b[0;32m-> 4160\u001b[0;31m         return super().drop(\n\u001b[0m\u001b[1;32m   4161\u001b[0m             \u001b[0mlabels\u001b[0m\u001b[0;34m=\u001b[0m\u001b[0mlabels\u001b[0m\u001b[0;34m,\u001b[0m\u001b[0;34m\u001b[0m\u001b[0;34m\u001b[0m\u001b[0m\n\u001b[1;32m   4162\u001b[0m             \u001b[0maxis\u001b[0m\u001b[0;34m=\u001b[0m\u001b[0maxis\u001b[0m\u001b[0;34m,\u001b[0m\u001b[0;34m\u001b[0m\u001b[0;34m\u001b[0m\u001b[0m\n",
      "\u001b[0;32m~/miniconda3/envs/py38/lib/python3.8/site-packages/pandas/core/generic.py\u001b[0m in \u001b[0;36mdrop\u001b[0;34m(self, labels, axis, index, columns, level, inplace, errors)\u001b[0m\n\u001b[1;32m   3876\u001b[0m         \u001b[0;32mfor\u001b[0m \u001b[0maxis\u001b[0m\u001b[0;34m,\u001b[0m \u001b[0mlabels\u001b[0m \u001b[0;32min\u001b[0m \u001b[0maxes\u001b[0m\u001b[0;34m.\u001b[0m\u001b[0mitems\u001b[0m\u001b[0;34m(\u001b[0m\u001b[0;34m)\u001b[0m\u001b[0;34m:\u001b[0m\u001b[0;34m\u001b[0m\u001b[0;34m\u001b[0m\u001b[0m\n\u001b[1;32m   3877\u001b[0m             \u001b[0;32mif\u001b[0m \u001b[0mlabels\u001b[0m \u001b[0;32mis\u001b[0m \u001b[0;32mnot\u001b[0m \u001b[0;32mNone\u001b[0m\u001b[0;34m:\u001b[0m\u001b[0;34m\u001b[0m\u001b[0;34m\u001b[0m\u001b[0m\n\u001b[0;32m-> 3878\u001b[0;31m                 \u001b[0mobj\u001b[0m \u001b[0;34m=\u001b[0m \u001b[0mobj\u001b[0m\u001b[0;34m.\u001b[0m\u001b[0m_drop_axis\u001b[0m\u001b[0;34m(\u001b[0m\u001b[0mlabels\u001b[0m\u001b[0;34m,\u001b[0m \u001b[0maxis\u001b[0m\u001b[0;34m,\u001b[0m \u001b[0mlevel\u001b[0m\u001b[0;34m=\u001b[0m\u001b[0mlevel\u001b[0m\u001b[0;34m,\u001b[0m \u001b[0merrors\u001b[0m\u001b[0;34m=\u001b[0m\u001b[0merrors\u001b[0m\u001b[0;34m)\u001b[0m\u001b[0;34m\u001b[0m\u001b[0;34m\u001b[0m\u001b[0m\n\u001b[0m\u001b[1;32m   3879\u001b[0m \u001b[0;34m\u001b[0m\u001b[0m\n\u001b[1;32m   3880\u001b[0m         \u001b[0;32mif\u001b[0m \u001b[0minplace\u001b[0m\u001b[0;34m:\u001b[0m\u001b[0;34m\u001b[0m\u001b[0;34m\u001b[0m\u001b[0m\n",
      "\u001b[0;32m~/miniconda3/envs/py38/lib/python3.8/site-packages/pandas/core/generic.py\u001b[0m in \u001b[0;36m_drop_axis\u001b[0;34m(self, labels, axis, level, errors)\u001b[0m\n\u001b[1;32m   3910\u001b[0m                 \u001b[0mnew_axis\u001b[0m \u001b[0;34m=\u001b[0m \u001b[0maxis\u001b[0m\u001b[0;34m.\u001b[0m\u001b[0mdrop\u001b[0m\u001b[0;34m(\u001b[0m\u001b[0mlabels\u001b[0m\u001b[0;34m,\u001b[0m \u001b[0mlevel\u001b[0m\u001b[0;34m=\u001b[0m\u001b[0mlevel\u001b[0m\u001b[0;34m,\u001b[0m \u001b[0merrors\u001b[0m\u001b[0;34m=\u001b[0m\u001b[0merrors\u001b[0m\u001b[0;34m)\u001b[0m\u001b[0;34m\u001b[0m\u001b[0;34m\u001b[0m\u001b[0m\n\u001b[1;32m   3911\u001b[0m             \u001b[0;32melse\u001b[0m\u001b[0;34m:\u001b[0m\u001b[0;34m\u001b[0m\u001b[0;34m\u001b[0m\u001b[0m\n\u001b[0;32m-> 3912\u001b[0;31m                 \u001b[0mnew_axis\u001b[0m \u001b[0;34m=\u001b[0m \u001b[0maxis\u001b[0m\u001b[0;34m.\u001b[0m\u001b[0mdrop\u001b[0m\u001b[0;34m(\u001b[0m\u001b[0mlabels\u001b[0m\u001b[0;34m,\u001b[0m \u001b[0merrors\u001b[0m\u001b[0;34m=\u001b[0m\u001b[0merrors\u001b[0m\u001b[0;34m)\u001b[0m\u001b[0;34m\u001b[0m\u001b[0;34m\u001b[0m\u001b[0m\n\u001b[0m\u001b[1;32m   3913\u001b[0m             \u001b[0mresult\u001b[0m \u001b[0;34m=\u001b[0m \u001b[0mself\u001b[0m\u001b[0;34m.\u001b[0m\u001b[0mreindex\u001b[0m\u001b[0;34m(\u001b[0m\u001b[0;34m**\u001b[0m\u001b[0;34m{\u001b[0m\u001b[0maxis_name\u001b[0m\u001b[0;34m:\u001b[0m \u001b[0mnew_axis\u001b[0m\u001b[0;34m}\u001b[0m\u001b[0;34m)\u001b[0m\u001b[0;34m\u001b[0m\u001b[0;34m\u001b[0m\u001b[0m\n\u001b[1;32m   3914\u001b[0m \u001b[0;34m\u001b[0m\u001b[0m\n",
      "\u001b[0;32m~/miniconda3/envs/py38/lib/python3.8/site-packages/pandas/core/indexes/base.py\u001b[0m in \u001b[0;36mdrop\u001b[0;34m(self, labels, errors)\u001b[0m\n\u001b[1;32m   5274\u001b[0m         \u001b[0;32mif\u001b[0m \u001b[0mmask\u001b[0m\u001b[0;34m.\u001b[0m\u001b[0many\u001b[0m\u001b[0;34m(\u001b[0m\u001b[0;34m)\u001b[0m\u001b[0;34m:\u001b[0m\u001b[0;34m\u001b[0m\u001b[0;34m\u001b[0m\u001b[0m\n\u001b[1;32m   5275\u001b[0m             \u001b[0;32mif\u001b[0m \u001b[0merrors\u001b[0m \u001b[0;34m!=\u001b[0m \u001b[0;34m\"ignore\"\u001b[0m\u001b[0;34m:\u001b[0m\u001b[0;34m\u001b[0m\u001b[0;34m\u001b[0m\u001b[0m\n\u001b[0;32m-> 5276\u001b[0;31m                 \u001b[0;32mraise\u001b[0m \u001b[0mKeyError\u001b[0m\u001b[0;34m(\u001b[0m\u001b[0;34mf\"{labels[mask]} not found in axis\"\u001b[0m\u001b[0;34m)\u001b[0m\u001b[0;34m\u001b[0m\u001b[0;34m\u001b[0m\u001b[0m\n\u001b[0m\u001b[1;32m   5277\u001b[0m             \u001b[0mindexer\u001b[0m \u001b[0;34m=\u001b[0m \u001b[0mindexer\u001b[0m\u001b[0;34m[\u001b[0m\u001b[0;34m~\u001b[0m\u001b[0mmask\u001b[0m\u001b[0;34m]\u001b[0m\u001b[0;34m\u001b[0m\u001b[0;34m\u001b[0m\u001b[0m\n\u001b[1;32m   5278\u001b[0m         \u001b[0;32mreturn\u001b[0m \u001b[0mself\u001b[0m\u001b[0;34m.\u001b[0m\u001b[0mdelete\u001b[0m\u001b[0;34m(\u001b[0m\u001b[0mindexer\u001b[0m\u001b[0;34m)\u001b[0m\u001b[0;34m\u001b[0m\u001b[0;34m\u001b[0m\u001b[0m\n",
      "\u001b[0;31mKeyError\u001b[0m: \"['LabelTestRadConsensusVoted3' 'IsTestRadConsensusVoted3'] not found in axis\""
     ]
    }
   ],
   "source": [
    "df = df.drop(columns=['LabelTestRadConsensusVoted3', 'IsTestRadConsensusVoted3'])"
   ]
  },
  {
   "cell_type": "code",
   "execution_count": 111,
   "metadata": {
    "ExecuteTime": {
     "end_time": "2020-11-16T12:33:01.014601Z",
     "start_time": "2020-11-16T12:33:01.005678Z"
    }
   },
   "outputs": [
    {
     "data": {
      "text/plain": [
       "Index(['Key', 'LastModified', 'ETag', 'Size', 'StorageClass'], dtype='object')"
      ]
     },
     "execution_count": 111,
     "metadata": {},
     "output_type": "execute_result"
    }
   ],
   "source": [
    "df.columns"
   ]
  },
  {
   "cell_type": "code",
   "execution_count": 112,
   "metadata": {
    "ExecuteTime": {
     "end_time": "2020-11-16T12:33:06.036008Z",
     "start_time": "2020-11-16T12:33:02.593724Z"
    }
   },
   "outputs": [],
   "source": [
    "orig_test_df = pd.read_csv('/Users/eoin/workspace/fourTheorem/lbeta/CADLab/CXR-Binary-Classifier/test_list.txt', names=['Filename'], index_col='Filename')\n",
    "orig_test_df['IsOrigTest'] = True\n",
    "orig_train_df = pd.read_csv('/Users/eoin/workspace/fourTheorem/lbeta/CADLab/CXR-Binary-Classifier/train_val_list.txt', names=['Filename'], index_col='Filename')\n",
    "orig_train_df['IsOrigTrain'] = True\n",
    "tang_set_keys = [\n",
    "    's3://ft-modelling-lbeta/cxr-nih/tang/test_rad_consensus_voted3.txt',\n",
    "    's3://ft-modelling-lbeta/cxr-nih/tang/test_attending_rad.txt',\n",
    "    's3://ft-modelling-lbeta/cxr-nih/tang/train.txt',\n",
    "]\n",
    "\n",
    "tang_set_dfs = [\n",
    "    pd.read_csv(key, names=[\n",
    "        'Filename', \n",
    "        'Label' + pascalcase(key.split('/')[-1].split('.')[0])\n",
    "    ], sep=' ', index_col='Filename').assign(**{'Is' + pascalcase(key.split('/')[-1].split('.')[0]): True})\n",
    "    for key in tang_set_keys\n",
    "]"
   ]
  },
  {
   "cell_type": "code",
   "execution_count": 115,
   "metadata": {
    "ExecuteTime": {
     "end_time": "2020-11-16T12:33:15.686010Z",
     "start_time": "2020-11-16T12:33:14.509618Z"
    }
   },
   "outputs": [],
   "source": [
    "for tang_df in tang_set_dfs:\n",
    "    df = df.join(tang_df)\n",
    "\n",
    "df = df.join(orig_test_df)\n",
    "df = df.join(orig_train_df)"
   ]
  },
  {
   "cell_type": "code",
   "execution_count": 116,
   "metadata": {
    "ExecuteTime": {
     "end_time": "2020-11-16T12:33:16.890976Z",
     "start_time": "2020-11-16T12:33:16.814268Z"
    }
   },
   "outputs": [],
   "source": [
    "for col in [col for col in df.columns if col.startswith('Is')]:\n",
    "    df[col].fillna(value=False, inplace=True)\n",
    "for col in [col for col in df.columns if col.startswith('Label')]:\n",
    "    df[col].fillna(value=-1, inplace=True)"
   ]
  },
  {
   "cell_type": "code",
   "execution_count": 117,
   "metadata": {
    "ExecuteTime": {
     "end_time": "2020-11-16T12:33:18.552946Z",
     "start_time": "2020-11-16T12:33:18.540459Z"
    }
   },
   "outputs": [
    {
     "data": {
      "text/plain": [
       "array([-1.,  1.,  0.])"
      ]
     },
     "execution_count": 117,
     "metadata": {},
     "output_type": "execute_result"
    }
   ],
   "source": [
    "df.LabelTestRadConsensusVoted3.unique()"
   ]
  },
  {
   "cell_type": "code",
   "execution_count": 121,
   "metadata": {
    "ExecuteTime": {
     "end_time": "2020-11-16T12:33:45.790769Z",
     "start_time": "2020-11-16T12:33:45.774875Z"
    }
   },
   "outputs": [
    {
     "data": {
      "text/plain": [
       "8668"
      ]
     },
     "execution_count": 121,
     "metadata": {},
     "output_type": "execute_result"
    }
   ],
   "source": [
    "len(df[df.IsTrain])"
   ]
  },
  {
   "cell_type": "code",
   "execution_count": 126,
   "metadata": {
    "ExecuteTime": {
     "end_time": "2020-11-16T12:36:33.352122Z",
     "start_time": "2020-11-16T12:36:33.301070Z"
    }
   },
   "outputs": [
    {
     "data": {
      "text/html": [
       "<div>\n",
       "<style scoped>\n",
       "    .dataframe tbody tr th:only-of-type {\n",
       "        vertical-align: middle;\n",
       "    }\n",
       "\n",
       "    .dataframe tbody tr th {\n",
       "        vertical-align: top;\n",
       "    }\n",
       "\n",
       "    .dataframe thead th {\n",
       "        text-align: right;\n",
       "    }\n",
       "</style>\n",
       "<table border=\"1\" class=\"dataframe\">\n",
       "  <thead>\n",
       "    <tr style=\"text-align: right;\">\n",
       "      <th></th>\n",
       "      <th>Key</th>\n",
       "      <th>LastModified</th>\n",
       "      <th>ETag</th>\n",
       "      <th>Size</th>\n",
       "      <th>StorageClass</th>\n",
       "      <th>LabelTestRadConsensusVoted3</th>\n",
       "      <th>IsTestRadConsensusVoted3</th>\n",
       "      <th>LabelTestAttendingRad</th>\n",
       "      <th>IsTestAttendingRad</th>\n",
       "      <th>LabelTrain</th>\n",
       "      <th>IsTrain</th>\n",
       "      <th>IsOrigTest</th>\n",
       "      <th>IsOrigTrain</th>\n",
       "    </tr>\n",
       "    <tr>\n",
       "      <th>Filename</th>\n",
       "      <th></th>\n",
       "      <th></th>\n",
       "      <th></th>\n",
       "      <th></th>\n",
       "      <th></th>\n",
       "      <th></th>\n",
       "      <th></th>\n",
       "      <th></th>\n",
       "      <th></th>\n",
       "      <th></th>\n",
       "      <th></th>\n",
       "      <th></th>\n",
       "      <th></th>\n",
       "    </tr>\n",
       "  </thead>\n",
       "  <tbody>\n",
       "    <tr>\n",
       "      <th>00030802_000.png</th>\n",
       "      <td>cxr-nih/images_12/images/00030802_000.png</td>\n",
       "      <td>2020-11-14 22:10:23+00:00</td>\n",
       "      <td>\"8cd2e6bcb0340495cb77af2c6bc8cf6b\"</td>\n",
       "      <td>390450</td>\n",
       "      <td>STANDARD</td>\n",
       "      <td>-1.0</td>\n",
       "      <td>False</td>\n",
       "      <td>-1.0</td>\n",
       "      <td>False</td>\n",
       "      <td>-1.0</td>\n",
       "      <td>False</td>\n",
       "      <td>True</td>\n",
       "      <td>False</td>\n",
       "    </tr>\n",
       "    <tr>\n",
       "      <th>00030803_000.png</th>\n",
       "      <td>cxr-nih/images_12/images/00030803_000.png</td>\n",
       "      <td>2020-11-14 22:10:23+00:00</td>\n",
       "      <td>\"7a42fdade3da297bc789c8df2fbb1bf0\"</td>\n",
       "      <td>362506</td>\n",
       "      <td>STANDARD</td>\n",
       "      <td>0.0</td>\n",
       "      <td>True</td>\n",
       "      <td>0.0</td>\n",
       "      <td>True</td>\n",
       "      <td>-1.0</td>\n",
       "      <td>False</td>\n",
       "      <td>True</td>\n",
       "      <td>False</td>\n",
       "    </tr>\n",
       "    <tr>\n",
       "      <th>00030804_000.png</th>\n",
       "      <td>cxr-nih/images_12/images/00030804_000.png</td>\n",
       "      <td>2020-11-14 22:10:23+00:00</td>\n",
       "      <td>\"a197ba386e739907d96c69bccb00303b\"</td>\n",
       "      <td>381994</td>\n",
       "      <td>STANDARD</td>\n",
       "      <td>-1.0</td>\n",
       "      <td>False</td>\n",
       "      <td>-1.0</td>\n",
       "      <td>False</td>\n",
       "      <td>-1.0</td>\n",
       "      <td>False</td>\n",
       "      <td>True</td>\n",
       "      <td>False</td>\n",
       "    </tr>\n",
       "    <tr>\n",
       "      <th>00030805_000.png</th>\n",
       "      <td>cxr-nih/images_12/images/00030805_000.png</td>\n",
       "      <td>2020-11-14 22:10:23+00:00</td>\n",
       "      <td>\"6a8a4dec4d415d1cbf01fe2c09727da8\"</td>\n",
       "      <td>668026</td>\n",
       "      <td>STANDARD</td>\n",
       "      <td>-1.0</td>\n",
       "      <td>False</td>\n",
       "      <td>-1.0</td>\n",
       "      <td>False</td>\n",
       "      <td>-1.0</td>\n",
       "      <td>False</td>\n",
       "      <td>True</td>\n",
       "      <td>False</td>\n",
       "    </tr>\n",
       "    <tr>\n",
       "      <th>index.csv</th>\n",
       "      <td>cxr-nih/index.csv</td>\n",
       "      <td>2020-11-15 11:05:20+00:00</td>\n",
       "      <td>\"29bbaea34026c53c606f0291066f7d8e-4\"</td>\n",
       "      <td>17179417</td>\n",
       "      <td>STANDARD</td>\n",
       "      <td>-1.0</td>\n",
       "      <td>False</td>\n",
       "      <td>-1.0</td>\n",
       "      <td>False</td>\n",
       "      <td>-1.0</td>\n",
       "      <td>False</td>\n",
       "      <td>False</td>\n",
       "      <td>False</td>\n",
       "    </tr>\n",
       "  </tbody>\n",
       "</table>\n",
       "</div>"
      ],
      "text/plain": [
       "                                                        Key  \\\n",
       "Filename                                                      \n",
       "00030802_000.png  cxr-nih/images_12/images/00030802_000.png   \n",
       "00030803_000.png  cxr-nih/images_12/images/00030803_000.png   \n",
       "00030804_000.png  cxr-nih/images_12/images/00030804_000.png   \n",
       "00030805_000.png  cxr-nih/images_12/images/00030805_000.png   \n",
       "index.csv                                 cxr-nih/index.csv   \n",
       "\n",
       "                              LastModified  \\\n",
       "Filename                                     \n",
       "00030802_000.png 2020-11-14 22:10:23+00:00   \n",
       "00030803_000.png 2020-11-14 22:10:23+00:00   \n",
       "00030804_000.png 2020-11-14 22:10:23+00:00   \n",
       "00030805_000.png 2020-11-14 22:10:23+00:00   \n",
       "index.csv        2020-11-15 11:05:20+00:00   \n",
       "\n",
       "                                                  ETag      Size StorageClass  \\\n",
       "Filename                                                                        \n",
       "00030802_000.png    \"8cd2e6bcb0340495cb77af2c6bc8cf6b\"    390450     STANDARD   \n",
       "00030803_000.png    \"7a42fdade3da297bc789c8df2fbb1bf0\"    362506     STANDARD   \n",
       "00030804_000.png    \"a197ba386e739907d96c69bccb00303b\"    381994     STANDARD   \n",
       "00030805_000.png    \"6a8a4dec4d415d1cbf01fe2c09727da8\"    668026     STANDARD   \n",
       "index.csv         \"29bbaea34026c53c606f0291066f7d8e-4\"  17179417     STANDARD   \n",
       "\n",
       "                  LabelTestRadConsensusVoted3  IsTestRadConsensusVoted3  \\\n",
       "Filename                                                                  \n",
       "00030802_000.png                         -1.0                     False   \n",
       "00030803_000.png                          0.0                      True   \n",
       "00030804_000.png                         -1.0                     False   \n",
       "00030805_000.png                         -1.0                     False   \n",
       "index.csv                                -1.0                     False   \n",
       "\n",
       "                  LabelTestAttendingRad  IsTestAttendingRad  LabelTrain  \\\n",
       "Filename                                                                  \n",
       "00030802_000.png                   -1.0               False        -1.0   \n",
       "00030803_000.png                    0.0                True        -1.0   \n",
       "00030804_000.png                   -1.0               False        -1.0   \n",
       "00030805_000.png                   -1.0               False        -1.0   \n",
       "index.csv                          -1.0               False        -1.0   \n",
       "\n",
       "                  IsTrain  IsOrigTest  IsOrigTrain  \n",
       "Filename                                            \n",
       "00030802_000.png    False        True        False  \n",
       "00030803_000.png    False        True        False  \n",
       "00030804_000.png    False        True        False  \n",
       "00030805_000.png    False        True        False  \n",
       "index.csv           False       False        False  "
      ]
     },
     "execution_count": 126,
     "metadata": {},
     "output_type": "execute_result"
    }
   ],
   "source": [
    "df.tail()"
   ]
  },
  {
   "cell_type": "code",
   "execution_count": 138,
   "metadata": {
    "ExecuteTime": {
     "end_time": "2020-11-16T12:40:21.770880Z",
     "start_time": "2020-11-16T12:40:21.733969Z"
    }
   },
   "outputs": [],
   "source": [
    "df = df.drop('index.csv')"
   ]
  },
  {
   "cell_type": "code",
   "execution_count": 140,
   "metadata": {
    "ExecuteTime": {
     "end_time": "2020-11-16T12:41:02.442753Z",
     "start_time": "2020-11-16T12:40:35.069427Z"
    }
   },
   "outputs": [],
   "source": [
    "df.to_csv('s3://ft-modelling-lbeta/cxr-nih/index.csv', header=True)"
   ]
  },
  {
   "cell_type": "code",
   "execution_count": 139,
   "metadata": {
    "ExecuteTime": {
     "end_time": "2020-11-16T12:40:25.591880Z",
     "start_time": "2020-11-16T12:40:23.980432Z"
    }
   },
   "outputs": [],
   "source": [
    "df.to_csv('/Users/eoin/workspace/fourTheorem/lbeta/CADLab/CXR-Binary-Classifier/index.csv', header=True)"
   ]
  },
  {
   "cell_type": "code",
   "execution_count": 8,
   "metadata": {
    "ExecuteTime": {
     "end_time": "2020-11-16T09:59:52.120707Z",
     "start_time": "2020-11-16T09:59:48.078671Z"
    }
   },
   "outputs": [],
   "source": [
    "import boto3\n",
    "import pandas as pd\n",
    "from io import BytesIO, StringIO"
   ]
  },
  {
   "cell_type": "code",
   "execution_count": 141,
   "metadata": {
    "ExecuteTime": {
     "end_time": "2020-11-16T12:42:25.145811Z",
     "start_time": "2020-11-16T12:42:25.087491Z"
    }
   },
   "outputs": [],
   "source": [
    "s3 = boto3.client('s3')"
   ]
  },
  {
   "cell_type": "code",
   "execution_count": 142,
   "metadata": {
    "ExecuteTime": {
     "end_time": "2020-11-16T12:43:29.662730Z",
     "start_time": "2020-11-16T12:42:26.640464Z"
    }
   },
   "outputs": [
    {
     "data": {
      "text/plain": [
       "0"
      ]
     },
     "execution_count": 142,
     "metadata": {},
     "output_type": "execute_result"
    }
   ],
   "source": [
    "index_csv_obj = BytesIO()\n",
    "s3.download_fileobj(Bucket='ft-modelling-lbeta', Key='cxr-nih/index.csv', Fileobj=index_csv_obj)\n",
    "index_csv_obj.seek(0)"
   ]
  },
  {
   "cell_type": "code",
   "execution_count": 143,
   "metadata": {
    "ExecuteTime": {
     "end_time": "2020-11-16T12:43:30.284318Z",
     "start_time": "2020-11-16T12:43:29.669359Z"
    }
   },
   "outputs": [],
   "source": [
    "index_df = pd.read_csv(index_csv_obj)"
   ]
  },
  {
   "cell_type": "code",
   "execution_count": 154,
   "metadata": {
    "ExecuteTime": {
     "end_time": "2020-11-16T18:21:23.640273Z",
     "start_time": "2020-11-16T18:21:23.546113Z"
    }
   },
   "outputs": [
    {
     "data": {
      "text/plain": [
       "113178"
      ]
     },
     "execution_count": 154,
     "metadata": {},
     "output_type": "execute_result"
    }
   ],
   "source": [
    "len(index_df)"
   ]
  },
  {
   "cell_type": "code",
   "execution_count": 144,
   "metadata": {
    "ExecuteTime": {
     "end_time": "2020-11-16T12:43:30.318599Z",
     "start_time": "2020-11-16T12:43:30.287815Z"
    }
   },
   "outputs": [
    {
     "data": {
      "text/html": [
       "<div>\n",
       "<style scoped>\n",
       "    .dataframe tbody tr th:only-of-type {\n",
       "        vertical-align: middle;\n",
       "    }\n",
       "\n",
       "    .dataframe tbody tr th {\n",
       "        vertical-align: top;\n",
       "    }\n",
       "\n",
       "    .dataframe thead th {\n",
       "        text-align: right;\n",
       "    }\n",
       "</style>\n",
       "<table border=\"1\" class=\"dataframe\">\n",
       "  <thead>\n",
       "    <tr style=\"text-align: right;\">\n",
       "      <th></th>\n",
       "      <th>Filename</th>\n",
       "      <th>Key</th>\n",
       "      <th>LastModified</th>\n",
       "      <th>ETag</th>\n",
       "      <th>Size</th>\n",
       "      <th>StorageClass</th>\n",
       "      <th>LabelTestRadConsensusVoted3</th>\n",
       "      <th>IsTestRadConsensusVoted3</th>\n",
       "      <th>LabelTestAttendingRad</th>\n",
       "      <th>IsTestAttendingRad</th>\n",
       "      <th>LabelTrain</th>\n",
       "      <th>IsTrain</th>\n",
       "      <th>IsOrigTest</th>\n",
       "      <th>IsOrigTrain</th>\n",
       "    </tr>\n",
       "  </thead>\n",
       "  <tbody>\n",
       "    <tr>\n",
       "      <th>0</th>\n",
       "      <td>00000001_000.png</td>\n",
       "      <td>cxr-nih/images_01/images/00000001_000.png</td>\n",
       "      <td>2020-11-14 21:40:50+00:00</td>\n",
       "      <td>\"9ed48cef82776548c0f4e074f94c11e5\"</td>\n",
       "      <td>457171</td>\n",
       "      <td>STANDARD</td>\n",
       "      <td>-1.0</td>\n",
       "      <td>False</td>\n",
       "      <td>-1.0</td>\n",
       "      <td>False</td>\n",
       "      <td>-1.0</td>\n",
       "      <td>False</td>\n",
       "      <td>False</td>\n",
       "      <td>True</td>\n",
       "    </tr>\n",
       "    <tr>\n",
       "      <th>1</th>\n",
       "      <td>00000001_001.png</td>\n",
       "      <td>cxr-nih/images_01/images/00000001_001.png</td>\n",
       "      <td>2020-11-14 21:40:50+00:00</td>\n",
       "      <td>\"96f0ea563a3c5814edc1f769cce5ae02\"</td>\n",
       "      <td>444655</td>\n",
       "      <td>STANDARD</td>\n",
       "      <td>-1.0</td>\n",
       "      <td>False</td>\n",
       "      <td>-1.0</td>\n",
       "      <td>False</td>\n",
       "      <td>-1.0</td>\n",
       "      <td>False</td>\n",
       "      <td>False</td>\n",
       "      <td>True</td>\n",
       "    </tr>\n",
       "    <tr>\n",
       "      <th>2</th>\n",
       "      <td>00000001_002.png</td>\n",
       "      <td>cxr-nih/images_01/images/00000001_002.png</td>\n",
       "      <td>2020-11-14 21:40:50+00:00</td>\n",
       "      <td>\"ce16f474cf68ee9e402ae25515255137\"</td>\n",
       "      <td>351772</td>\n",
       "      <td>STANDARD</td>\n",
       "      <td>-1.0</td>\n",
       "      <td>False</td>\n",
       "      <td>-1.0</td>\n",
       "      <td>False</td>\n",
       "      <td>-1.0</td>\n",
       "      <td>False</td>\n",
       "      <td>False</td>\n",
       "      <td>True</td>\n",
       "    </tr>\n",
       "    <tr>\n",
       "      <th>3</th>\n",
       "      <td>00000002_000.png</td>\n",
       "      <td>cxr-nih/images_01/images/00000002_000.png</td>\n",
       "      <td>2020-11-14 21:40:50+00:00</td>\n",
       "      <td>\"cd62c75e25b0969232ba67819e314332\"</td>\n",
       "      <td>402332</td>\n",
       "      <td>STANDARD</td>\n",
       "      <td>-1.0</td>\n",
       "      <td>False</td>\n",
       "      <td>-1.0</td>\n",
       "      <td>False</td>\n",
       "      <td>-1.0</td>\n",
       "      <td>False</td>\n",
       "      <td>False</td>\n",
       "      <td>True</td>\n",
       "    </tr>\n",
       "    <tr>\n",
       "      <th>4</th>\n",
       "      <td>00000003_000.png</td>\n",
       "      <td>cxr-nih/images_01/images/00000003_000.png</td>\n",
       "      <td>2020-11-14 21:40:50+00:00</td>\n",
       "      <td>\"b8fa05b9e43029ce6ac86f928026d739\"</td>\n",
       "      <td>450000</td>\n",
       "      <td>STANDARD</td>\n",
       "      <td>-1.0</td>\n",
       "      <td>False</td>\n",
       "      <td>-1.0</td>\n",
       "      <td>False</td>\n",
       "      <td>-1.0</td>\n",
       "      <td>False</td>\n",
       "      <td>True</td>\n",
       "      <td>False</td>\n",
       "    </tr>\n",
       "  </tbody>\n",
       "</table>\n",
       "</div>"
      ],
      "text/plain": [
       "           Filename                                        Key  \\\n",
       "0  00000001_000.png  cxr-nih/images_01/images/00000001_000.png   \n",
       "1  00000001_001.png  cxr-nih/images_01/images/00000001_001.png   \n",
       "2  00000001_002.png  cxr-nih/images_01/images/00000001_002.png   \n",
       "3  00000002_000.png  cxr-nih/images_01/images/00000002_000.png   \n",
       "4  00000003_000.png  cxr-nih/images_01/images/00000003_000.png   \n",
       "\n",
       "                LastModified                                ETag    Size  \\\n",
       "0  2020-11-14 21:40:50+00:00  \"9ed48cef82776548c0f4e074f94c11e5\"  457171   \n",
       "1  2020-11-14 21:40:50+00:00  \"96f0ea563a3c5814edc1f769cce5ae02\"  444655   \n",
       "2  2020-11-14 21:40:50+00:00  \"ce16f474cf68ee9e402ae25515255137\"  351772   \n",
       "3  2020-11-14 21:40:50+00:00  \"cd62c75e25b0969232ba67819e314332\"  402332   \n",
       "4  2020-11-14 21:40:50+00:00  \"b8fa05b9e43029ce6ac86f928026d739\"  450000   \n",
       "\n",
       "  StorageClass  LabelTestRadConsensusVoted3  IsTestRadConsensusVoted3  \\\n",
       "0     STANDARD                         -1.0                     False   \n",
       "1     STANDARD                         -1.0                     False   \n",
       "2     STANDARD                         -1.0                     False   \n",
       "3     STANDARD                         -1.0                     False   \n",
       "4     STANDARD                         -1.0                     False   \n",
       "\n",
       "   LabelTestAttendingRad  IsTestAttendingRad  LabelTrain  IsTrain  IsOrigTest  \\\n",
       "0                   -1.0               False        -1.0    False       False   \n",
       "1                   -1.0               False        -1.0    False       False   \n",
       "2                   -1.0               False        -1.0    False       False   \n",
       "3                   -1.0               False        -1.0    False       False   \n",
       "4                   -1.0               False        -1.0    False        True   \n",
       "\n",
       "   IsOrigTrain  \n",
       "0         True  \n",
       "1         True  \n",
       "2         True  \n",
       "3         True  \n",
       "4        False  "
      ]
     },
     "execution_count": 144,
     "metadata": {},
     "output_type": "execute_result"
    }
   ],
   "source": [
    "index_df.head()"
   ]
  },
  {
   "cell_type": "code",
   "execution_count": 146,
   "metadata": {
    "ExecuteTime": {
     "end_time": "2020-11-16T12:44:16.804049Z",
     "start_time": "2020-11-16T12:44:16.785115Z"
    },
    "scrolled": true
   },
   "outputs": [
    {
     "data": {
      "text/plain": [
       "rec.array([(0, '00000001_000.png', 'cxr-nih/images_01/images/00000001_000.png', '2020-11-14 21:40:50+00:00', '\"9ed48cef82776548c0f4e074f94c11e5\"', 457171, 'STANDARD', -1., False, -1., False, -1., False, False,  True),\n",
       "           (1, '00000001_001.png', 'cxr-nih/images_01/images/00000001_001.png', '2020-11-14 21:40:50+00:00', '\"96f0ea563a3c5814edc1f769cce5ae02\"', 444655, 'STANDARD', -1., False, -1., False, -1., False, False,  True),\n",
       "           (2, '00000001_002.png', 'cxr-nih/images_01/images/00000001_002.png', '2020-11-14 21:40:50+00:00', '\"ce16f474cf68ee9e402ae25515255137\"', 351772, 'STANDARD', -1., False, -1., False, -1., False, False,  True),\n",
       "           (3, '00000002_000.png', 'cxr-nih/images_01/images/00000002_000.png', '2020-11-14 21:40:50+00:00', '\"cd62c75e25b0969232ba67819e314332\"', 402332, 'STANDARD', -1., False, -1., False, -1., False, False,  True),\n",
       "           (4, '00000003_000.png', 'cxr-nih/images_01/images/00000003_000.png', '2020-11-14 21:40:50+00:00', '\"b8fa05b9e43029ce6ac86f928026d739\"', 450000, 'STANDARD', -1., False, -1., False, -1., False,  True, False)],\n",
       "          dtype=[('index', '<i8'), ('Filename', 'O'), ('Key', 'O'), ('LastModified', 'O'), ('ETag', 'O'), ('Size', '<i8'), ('StorageClass', 'O'), ('LabelTestRadConsensusVoted3', '<f8'), ('IsTestRadConsensusVoted3', '?'), ('LabelTestAttendingRad', '<f8'), ('IsTestAttendingRad', '?'), ('LabelTrain', '<f8'), ('IsTrain', '?'), ('IsOrigTest', '?'), ('IsOrigTrain', '?')])"
      ]
     },
     "execution_count": 146,
     "metadata": {},
     "output_type": "execute_result"
    }
   ],
   "source": [
    "index_df.to"
   ]
  },
  {
   "cell_type": "code",
   "execution_count": 153,
   "metadata": {
    "ExecuteTime": {
     "end_time": "2020-11-16T12:47:29.111292Z",
     "start_time": "2020-11-16T12:47:28.987290Z"
    }
   },
   "outputs": [
    {
     "name": "stdout",
     "output_type": "stream",
     "text": [
      "{'Filename': '00000001_000.png', 'Key': 'cxr-nih/images_01/images/00000001_000.png', 'ETag': '\"9ed48cef82776548c0f4e074f94c11e5\"', 'Size': 457171, 'LabelTestRadConsensusVoted3': -1.0, 'IsTestRadConsensusVoted3': False, 'LabelTestAttendingRad': -1.0, 'IsTestAttendingRad': False, 'LabelTrain': -1.0, 'IsTrain': False, 'IsOrigTest': False, 'IsOrigTrain': True}\n"
     ]
    }
   ],
   "source": [
    "for index, row in index_df.drop(columns=['LastModified', 'StorageClass']).iterrows():\n",
    "    print(row.to_dict())\n",
    "    break"
   ]
  },
  {
   "cell_type": "code",
   "execution_count": null,
   "metadata": {},
   "outputs": [],
   "source": []
  }
 ],
 "metadata": {
  "kernelspec": {
   "display_name": "Python 3",
   "language": "python",
   "name": "python3"
  },
  "language_info": {
   "codemirror_mode": {
    "name": "ipython",
    "version": 3
   },
   "file_extension": ".py",
   "mimetype": "text/x-python",
   "name": "python",
   "nbconvert_exporter": "python",
   "pygments_lexer": "ipython3",
   "version": "3.8.3"
  }
 },
 "nbformat": 4,
 "nbformat_minor": 4
}
