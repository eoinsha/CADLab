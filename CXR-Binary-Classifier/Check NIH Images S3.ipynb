{
 "cells": [
  {
   "cell_type": "code",
   "execution_count": 28,
   "metadata": {
    "ExecuteTime": {
     "end_time": "2020-11-15T10:23:32.102277Z",
     "start_time": "2020-11-15T10:23:24.196915Z"
    }
   },
   "outputs": [],
   "source": [
    "import boto3\n",
    "from tqdm.notebook import tqdm\n",
    "import pandas as pd"
   ]
  },
  {
   "cell_type": "code",
   "execution_count": 23,
   "metadata": {
    "ExecuteTime": {
     "end_time": "2020-11-15T10:11:36.721508Z",
     "start_time": "2020-11-15T10:11:36.561831Z"
    }
   },
   "outputs": [],
   "source": [
    "s3 = boto3.client('s3')"
   ]
  },
  {
   "cell_type": "code",
   "execution_count": 24,
   "metadata": {
    "ExecuteTime": {
     "end_time": "2020-11-15T10:11:38.068200Z",
     "start_time": "2020-11-15T10:11:38.059413Z"
    }
   },
   "outputs": [],
   "source": [
    "pag = s3.get_paginator('list_objects_v2')"
   ]
  },
  {
   "cell_type": "code",
   "execution_count": 25,
   "metadata": {
    "ExecuteTime": {
     "end_time": "2020-11-15T10:12:51.720681Z",
     "start_time": "2020-11-15T10:12:51.710778Z"
    }
   },
   "outputs": [],
   "source": [
    "page_iter = pag.paginate(Bucket='ft-modelling-lbeta', Prefix='cxr-nih/')"
   ]
  },
  {
   "cell_type": "code",
   "execution_count": 26,
   "metadata": {
    "ExecuteTime": {
     "end_time": "2020-11-15T10:16:15.485909Z",
     "start_time": "2020-11-15T10:12:51.997181Z"
    }
   },
   "outputs": [
    {
     "data": {
      "application/vnd.jupyter.widget-view+json": {
       "model_id": "6d2b12609906460bbf483e8274df94c6",
       "version_major": 2,
       "version_minor": 0
      },
      "text/plain": [
       "HBox(children=(HTML(value=''), FloatProgress(value=1.0, bar_style='info', layout=Layout(width='20px'), max=1.0…"
      ]
     },
     "metadata": {},
     "output_type": "display_data"
    },
    {
     "name": "stdout",
     "output_type": "stream",
     "text": [
      "\n"
     ]
    },
    {
     "data": {
      "text/plain": [
       "'Done'"
      ]
     },
     "execution_count": 26,
     "metadata": {},
     "output_type": "execute_result"
    }
   ],
   "source": [
    "contents = []\n",
    "for page in tqdm(page_iter):\n",
    "    if 'Contents' in page:\n",
    "        contents.extend(page['Contents'])\n",
    "'Done'"
   ]
  },
  {
   "cell_type": "code",
   "execution_count": 27,
   "metadata": {
    "ExecuteTime": {
     "end_time": "2020-11-15T10:18:21.155407Z",
     "start_time": "2020-11-15T10:18:21.113130Z"
    }
   },
   "outputs": [
    {
     "data": {
      "text/plain": [
       "113178"
      ]
     },
     "execution_count": 27,
     "metadata": {},
     "output_type": "execute_result"
    }
   ],
   "source": [
    "len(contents)"
   ]
  },
  {
   "cell_type": "code",
   "execution_count": 29,
   "metadata": {
    "ExecuteTime": {
     "end_time": "2020-11-15T10:23:50.402433Z",
     "start_time": "2020-11-15T10:23:50.049322Z"
    }
   },
   "outputs": [],
   "source": [
    "df = pd.DataFrame.from_records(contents)"
   ]
  },
  {
   "cell_type": "code",
   "execution_count": 34,
   "metadata": {
    "ExecuteTime": {
     "end_time": "2020-11-15T10:25:13.163767Z",
     "start_time": "2020-11-15T10:25:13.033745Z"
    }
   },
   "outputs": [],
   "source": [
    "df['Filename'] = df['Key'].apply(lambda key: key.split('/')[-1])"
   ]
  },
  {
   "cell_type": "code",
   "execution_count": 57,
   "metadata": {
    "ExecuteTime": {
     "end_time": "2020-11-15T10:52:26.375389Z",
     "start_time": "2020-11-15T10:52:26.355306Z"
    }
   },
   "outputs": [],
   "source": [
    "test_filenames = []\n",
    "with open('/Users/eoin/workspace/fourTheorem/lbeta/CADLab/CXR-Binary-Classifier/test_list.txt') as tlf:\n",
    "    for line in tlf:\n",
    "        test_filenames.append(line.strip())"
   ]
  },
  {
   "cell_type": "code",
   "execution_count": 58,
   "metadata": {
    "ExecuteTime": {
     "end_time": "2020-11-15T10:53:11.912677Z",
     "start_time": "2020-11-15T10:52:27.004044Z"
    }
   },
   "outputs": [],
   "source": [
    "df['IsTest'] = df['Filename'].apply(lambda fn: fn in test_filenames)"
   ]
  },
  {
   "cell_type": "code",
   "execution_count": 59,
   "metadata": {
    "ExecuteTime": {
     "end_time": "2020-11-15T10:53:11.924820Z",
     "start_time": "2020-11-15T10:53:11.915293Z"
    }
   },
   "outputs": [
    {
     "data": {
      "text/plain": [
       "True"
      ]
     },
     "execution_count": 59,
     "metadata": {},
     "output_type": "execute_result"
    }
   ],
   "source": [
    "'00000003_000.png' in test_filenames"
   ]
  },
  {
   "cell_type": "code",
   "execution_count": 62,
   "metadata": {
    "ExecuteTime": {
     "end_time": "2020-11-15T10:53:36.508565Z",
     "start_time": "2020-11-15T10:53:36.480880Z"
    }
   },
   "outputs": [
    {
     "data": {
      "text/plain": [
       "25763"
      ]
     },
     "execution_count": 62,
     "metadata": {},
     "output_type": "execute_result"
    }
   ],
   "source": [
    "len(df[df.IsTest])"
   ]
  },
  {
   "cell_type": "code",
   "execution_count": 65,
   "metadata": {
    "ExecuteTime": {
     "end_time": "2020-11-15T11:04:20.005086Z",
     "start_time": "2020-11-15T11:04:19.983076Z"
    }
   },
   "outputs": [
    {
     "data": {
      "text/html": [
       "<div>\n",
       "<style scoped>\n",
       "    .dataframe tbody tr th:only-of-type {\n",
       "        vertical-align: middle;\n",
       "    }\n",
       "\n",
       "    .dataframe tbody tr th {\n",
       "        vertical-align: top;\n",
       "    }\n",
       "\n",
       "    .dataframe thead th {\n",
       "        text-align: right;\n",
       "    }\n",
       "</style>\n",
       "<table border=\"1\" class=\"dataframe\">\n",
       "  <thead>\n",
       "    <tr style=\"text-align: right;\">\n",
       "      <th></th>\n",
       "      <th>Key</th>\n",
       "      <th>LastModified</th>\n",
       "      <th>ETag</th>\n",
       "      <th>Size</th>\n",
       "      <th>StorageClass</th>\n",
       "      <th>Filename</th>\n",
       "      <th>IsTest</th>\n",
       "    </tr>\n",
       "  </thead>\n",
       "  <tbody>\n",
       "    <tr>\n",
       "      <th>0</th>\n",
       "      <td>cxr-nih/images_01/images/00000001_000.png</td>\n",
       "      <td>2020-11-14 21:40:50+00:00</td>\n",
       "      <td>\"9ed48cef82776548c0f4e074f94c11e5\"</td>\n",
       "      <td>457171</td>\n",
       "      <td>STANDARD</td>\n",
       "      <td>00000001_000.png</td>\n",
       "      <td>False</td>\n",
       "    </tr>\n",
       "    <tr>\n",
       "      <th>1</th>\n",
       "      <td>cxr-nih/images_01/images/00000001_001.png</td>\n",
       "      <td>2020-11-14 21:40:50+00:00</td>\n",
       "      <td>\"96f0ea563a3c5814edc1f769cce5ae02\"</td>\n",
       "      <td>444655</td>\n",
       "      <td>STANDARD</td>\n",
       "      <td>00000001_001.png</td>\n",
       "      <td>False</td>\n",
       "    </tr>\n",
       "    <tr>\n",
       "      <th>2</th>\n",
       "      <td>cxr-nih/images_01/images/00000001_002.png</td>\n",
       "      <td>2020-11-14 21:40:50+00:00</td>\n",
       "      <td>\"ce16f474cf68ee9e402ae25515255137\"</td>\n",
       "      <td>351772</td>\n",
       "      <td>STANDARD</td>\n",
       "      <td>00000001_002.png</td>\n",
       "      <td>False</td>\n",
       "    </tr>\n",
       "    <tr>\n",
       "      <th>3</th>\n",
       "      <td>cxr-nih/images_01/images/00000002_000.png</td>\n",
       "      <td>2020-11-14 21:40:50+00:00</td>\n",
       "      <td>\"cd62c75e25b0969232ba67819e314332\"</td>\n",
       "      <td>402332</td>\n",
       "      <td>STANDARD</td>\n",
       "      <td>00000002_000.png</td>\n",
       "      <td>False</td>\n",
       "    </tr>\n",
       "    <tr>\n",
       "      <th>4</th>\n",
       "      <td>cxr-nih/images_01/images/00000003_000.png</td>\n",
       "      <td>2020-11-14 21:40:50+00:00</td>\n",
       "      <td>\"b8fa05b9e43029ce6ac86f928026d739\"</td>\n",
       "      <td>450000</td>\n",
       "      <td>STANDARD</td>\n",
       "      <td>00000003_000.png</td>\n",
       "      <td>True</td>\n",
       "    </tr>\n",
       "  </tbody>\n",
       "</table>\n",
       "</div>"
      ],
      "text/plain": [
       "                                         Key              LastModified  \\\n",
       "0  cxr-nih/images_01/images/00000001_000.png 2020-11-14 21:40:50+00:00   \n",
       "1  cxr-nih/images_01/images/00000001_001.png 2020-11-14 21:40:50+00:00   \n",
       "2  cxr-nih/images_01/images/00000001_002.png 2020-11-14 21:40:50+00:00   \n",
       "3  cxr-nih/images_01/images/00000002_000.png 2020-11-14 21:40:50+00:00   \n",
       "4  cxr-nih/images_01/images/00000003_000.png 2020-11-14 21:40:50+00:00   \n",
       "\n",
       "                                 ETag    Size StorageClass          Filename  \\\n",
       "0  \"9ed48cef82776548c0f4e074f94c11e5\"  457171     STANDARD  00000001_000.png   \n",
       "1  \"96f0ea563a3c5814edc1f769cce5ae02\"  444655     STANDARD  00000001_001.png   \n",
       "2  \"ce16f474cf68ee9e402ae25515255137\"  351772     STANDARD  00000001_002.png   \n",
       "3  \"cd62c75e25b0969232ba67819e314332\"  402332     STANDARD  00000002_000.png   \n",
       "4  \"b8fa05b9e43029ce6ac86f928026d739\"  450000     STANDARD  00000003_000.png   \n",
       "\n",
       "   IsTest  \n",
       "0   False  \n",
       "1   False  \n",
       "2   False  \n",
       "3   False  \n",
       "4    True  "
      ]
     },
     "execution_count": 65,
     "metadata": {},
     "output_type": "execute_result"
    }
   ],
   "source": [
    "df.head()"
   ]
  },
  {
   "cell_type": "code",
   "execution_count": 66,
   "metadata": {
    "ExecuteTime": {
     "end_time": "2020-11-15T11:05:39.078649Z",
     "start_time": "2020-11-15T11:05:14.818022Z"
    }
   },
   "outputs": [],
   "source": [
    "df.to_csv('s3://ft-modelling-lbeta/cxr-nih/index.csv', header=True)"
   ]
  },
  {
   "cell_type": "code",
   "execution_count": null,
   "metadata": {},
   "outputs": [],
   "source": []
  }
 ],
 "metadata": {
  "kernelspec": {
   "display_name": "Python 3",
   "language": "python",
   "name": "python3"
  },
  "language_info": {
   "codemirror_mode": {
    "name": "ipython",
    "version": 3
   },
   "file_extension": ".py",
   "mimetype": "text/x-python",
   "name": "python",
   "nbconvert_exporter": "python",
   "pygments_lexer": "ipython3",
   "version": "3.8.3"
  }
 },
 "nbformat": 4,
 "nbformat_minor": 4
}
